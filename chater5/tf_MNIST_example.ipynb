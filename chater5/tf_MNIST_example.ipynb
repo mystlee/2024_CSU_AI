{
  "nbformat": 4,
  "nbformat_minor": 0,
  "metadata": {
    "colab": {
      "provenance": [],
      "authorship_tag": "ABX9TyO4n9XdXzO1P6xiV/P7El9g",
      "include_colab_link": true
    },
    "kernelspec": {
      "name": "python3",
      "display_name": "Python 3"
    },
    "language_info": {
      "name": "python"
    }
  },
  "cells": [
    {
      "cell_type": "markdown",
      "metadata": {
        "id": "view-in-github",
        "colab_type": "text"
      },
      "source": [
        "<a href=\"https://colab.research.google.com/github/mystlee/2024_CSU_AI/blob/main/chater5/tf_MNIST_example.ipynb\" target=\"_parent\"><img src=\"https://colab.research.google.com/assets/colab-badge.svg\" alt=\"Open In Colab\"/></a>"
      ]
    },
    {
      "cell_type": "markdown",
      "source": [
        "<h1>TensorFlow (TF)를 이용한 MNIST 예시<h1>\n",
        "\n",
        "python 코드에서 관련 모듈 import"
      ],
      "metadata": {
        "id": "F63HtMf-0TNt"
      }
    },
    {
      "cell_type": "code",
      "source": [
        "import tensorflow as tf\n",
        "from tensorflow.keras import layers, models\n",
        "from tensorflow.keras.datasets import mnist\n",
        "from tensorflow.keras.utils import to_categorical"
      ],
      "metadata": {
        "id": "-v8r12Zh0tgs"
      },
      "execution_count": 1,
      "outputs": []
    },
    {
      "cell_type": "markdown",
      "source": [
        "<h2>MNIST data 로드<h2>\n",
        "\n",
        "online에서 MNIST를 자동으로 다운로드하고, 학습/평가 데이터로 로드\n",
        "0에서 255 사이의 값으로 0에서 1 사이의 값으로 변형\n",
        "\n",
        "그 다음, to_categorical을 이용해서 one-hot vector로 변형"
      ],
      "metadata": {
        "id": "9mqV5vo60vCW"
      }
    },
    {
      "cell_type": "code",
      "source": [
        "(x_train, y_train), (x_test, y_test) = mnist.load_data()\n",
        "x_train = x_train.reshape((x_train.shape[0], -1)).astype('float32') / 255\n",
        "x_test = x_test.reshape((x_test.shape[0], -1)).astype('float32') / 255\n",
        "\n",
        "y_train = to_categorical(y_train)\n",
        "y_test = to_categorical(y_test)"
      ],
      "metadata": {
        "id": "B9QVUwgO1Ah6",
        "colab": {
          "base_uri": "https://localhost:8080/"
        },
        "outputId": "0fbead0b-44ee-448f-eab3-8d799d780c3e"
      },
      "execution_count": 2,
      "outputs": [
        {
          "output_type": "stream",
          "name": "stdout",
          "text": [
            "Downloading data from https://storage.googleapis.com/tensorflow/tf-keras-datasets/mnist.npz\n",
            "\u001b[1m11490434/11490434\u001b[0m \u001b[32m━━━━━━━━━━━━━━━━━━━━\u001b[0m\u001b[37m\u001b[0m \u001b[1m0s\u001b[0m 0us/step\n"
          ]
        }
      ]
    },
    {
      "cell_type": "markdown",
      "source": [
        "<h2>모델 구현<h2>\n",
        "\n",
        "첫번째 layer: weight와 bias만으로 간단하게 구성된 dense layer (=fully connected layer) + LeakyReLU + batchnorm\n",
        "\n",
        "두번째 layer: dense layer (=fully connected layer) + ReLU + layernorm\n",
        "\n",
        "세번째 layer: dense layer (=fully connected layer) + PReLU + batchnorm + softmax\n",
        "\n",
        "(softmax는 분류를 위한 activation function)"
      ],
      "metadata": {
        "id": "xh9ADKfK1VfF"
      }
    },
    {
      "cell_type": "code",
      "source": [
        "model = models.Sequential()\n",
        "\n",
        "model.add(layers.Dense(256, input_shape=(784,)))\n",
        "model.add(layers.LeakyReLU(alpha=0.1))\n",
        "model.add(layers.BatchNormalization())\n",
        "\n",
        "model.add(layers.Dense(128))\n",
        "model.add(layers.ReLU())\n",
        "model.add(layers.LayerNormalization())\n",
        "\n",
        "model.add(layers.Dense(64))\n",
        "model.add(layers.PReLU())\n",
        "model.add(layers.BatchNormalization())\n",
        "\n",
        "model.add(layers.Dense(10, activation='softmax'))"
      ],
      "metadata": {
        "id": "a2aVdKT61U5N",
        "colab": {
          "base_uri": "https://localhost:8080/"
        },
        "outputId": "b7a006f3-c14e-40c6-fa81-354628134e67"
      },
      "execution_count": 3,
      "outputs": [
        {
          "output_type": "stream",
          "name": "stderr",
          "text": [
            "/usr/local/lib/python3.10/dist-packages/keras/src/layers/core/dense.py:87: UserWarning: Do not pass an `input_shape`/`input_dim` argument to a layer. When using Sequential models, prefer using an `Input(shape)` object as the first layer in the model instead.\n",
            "  super().__init__(activity_regularizer=activity_regularizer, **kwargs)\n",
            "/usr/local/lib/python3.10/dist-packages/keras/src/layers/activations/leaky_relu.py:41: UserWarning: Argument `alpha` is deprecated. Use `negative_slope` instead.\n",
            "  warnings.warn(\n"
          ]
        }
      ]
    },
    {
      "cell_type": "markdown",
      "source": [
        "<h2>모델 설정<h3>\n",
        "\n",
        " optimizer 설정: adam optimizer\n",
        "\n",
        " loss function 설정: categorical cross-entropy\n",
        "\n",
        " metric 설정: 정확도"
      ],
      "metadata": {
        "id": "tUSItQBq2FVl"
      }
    },
    {
      "cell_type": "code",
      "execution_count": 4,
      "metadata": {
        "id": "7dAbFdFnz_v9"
      },
      "outputs": [],
      "source": [
        "model.compile(optimizer = 'adam',\n",
        "              loss = 'categorical_crossentropy',\n",
        "              metrics=['accuracy'])"
      ]
    },
    {
      "cell_type": "markdown",
      "source": [
        "<h3>모델 학습<h3>\n",
        "\n",
        "epochs: 10으로 설정\n",
        "\n",
        "mini-batch size: 128로 설정\n",
        "\n",
        "validation data: test 데이터 활용"
      ],
      "metadata": {
        "id": "7mY9cJWj2fsd"
      }
    },
    {
      "cell_type": "code",
      "source": [
        "history = model.fit(x_train, y_train, epochs=10, batch_size=128, validation_data=(x_test, y_test))"
      ],
      "metadata": {
        "id": "9iIpSFTY2e0V",
        "colab": {
          "base_uri": "https://localhost:8080/"
        },
        "outputId": "a1229b44-9d48-4b85-e27d-133bc46391ce"
      },
      "execution_count": 5,
      "outputs": [
        {
          "output_type": "stream",
          "name": "stdout",
          "text": [
            "Epoch 1/10\n",
            "\u001b[1m469/469\u001b[0m \u001b[32m━━━━━━━━━━━━━━━━━━━━\u001b[0m\u001b[37m\u001b[0m \u001b[1m13s\u001b[0m 10ms/step - accuracy: 0.8763 - loss: 0.4110 - val_accuracy: 0.9609 - val_loss: 0.1249\n",
            "Epoch 2/10\n",
            "\u001b[1m469/469\u001b[0m \u001b[32m━━━━━━━━━━━━━━━━━━━━\u001b[0m\u001b[37m\u001b[0m \u001b[1m4s\u001b[0m 8ms/step - accuracy: 0.9749 - loss: 0.0824 - val_accuracy: 0.9693 - val_loss: 0.1008\n",
            "Epoch 3/10\n",
            "\u001b[1m469/469\u001b[0m \u001b[32m━━━━━━━━━━━━━━━━━━━━\u001b[0m\u001b[37m\u001b[0m \u001b[1m8s\u001b[0m 14ms/step - accuracy: 0.9817 - loss: 0.0580 - val_accuracy: 0.9728 - val_loss: 0.0836\n",
            "Epoch 4/10\n",
            "\u001b[1m469/469\u001b[0m \u001b[32m━━━━━━━━━━━━━━━━━━━━\u001b[0m\u001b[37m\u001b[0m \u001b[1m7s\u001b[0m 14ms/step - accuracy: 0.9864 - loss: 0.0410 - val_accuracy: 0.9732 - val_loss: 0.0868\n",
            "Epoch 5/10\n",
            "\u001b[1m469/469\u001b[0m \u001b[32m━━━━━━━━━━━━━━━━━━━━\u001b[0m\u001b[37m\u001b[0m \u001b[1m10s\u001b[0m 13ms/step - accuracy: 0.9893 - loss: 0.0340 - val_accuracy: 0.9770 - val_loss: 0.0788\n",
            "Epoch 6/10\n",
            "\u001b[1m469/469\u001b[0m \u001b[32m━━━━━━━━━━━━━━━━━━━━\u001b[0m\u001b[37m\u001b[0m \u001b[1m8s\u001b[0m 8ms/step - accuracy: 0.9918 - loss: 0.0259 - val_accuracy: 0.9751 - val_loss: 0.0839\n",
            "Epoch 7/10\n",
            "\u001b[1m469/469\u001b[0m \u001b[32m━━━━━━━━━━━━━━━━━━━━\u001b[0m\u001b[37m\u001b[0m \u001b[1m6s\u001b[0m 11ms/step - accuracy: 0.9924 - loss: 0.0245 - val_accuracy: 0.9785 - val_loss: 0.0765\n",
            "Epoch 8/10\n",
            "\u001b[1m469/469\u001b[0m \u001b[32m━━━━━━━━━━━━━━━━━━━━\u001b[0m\u001b[37m\u001b[0m \u001b[1m4s\u001b[0m 8ms/step - accuracy: 0.9939 - loss: 0.0185 - val_accuracy: 0.9812 - val_loss: 0.0648\n",
            "Epoch 9/10\n",
            "\u001b[1m469/469\u001b[0m \u001b[32m━━━━━━━━━━━━━━━━━━━━\u001b[0m\u001b[37m\u001b[0m \u001b[1m4s\u001b[0m 8ms/step - accuracy: 0.9939 - loss: 0.0171 - val_accuracy: 0.9781 - val_loss: 0.0727\n",
            "Epoch 10/10\n",
            "\u001b[1m469/469\u001b[0m \u001b[32m━━━━━━━━━━━━━━━━━━━━\u001b[0m\u001b[37m\u001b[0m \u001b[1m5s\u001b[0m 11ms/step - accuracy: 0.9943 - loss: 0.0162 - val_accuracy: 0.9789 - val_loss: 0.0747\n"
          ]
        }
      ]
    },
    {
      "cell_type": "markdown",
      "source": [
        "<h3>학습된 모델을 이용한 성능 평가<h3>"
      ],
      "metadata": {
        "id": "xQETrRvK2iFp"
      }
    },
    {
      "cell_type": "code",
      "source": [
        "test_loss, test_acc = model.evaluate(x_test, y_test)\n",
        "print(f\"Test accuracy: {test_acc:.4f}\")"
      ],
      "metadata": {
        "id": "8hGcuhkA2igM",
        "colab": {
          "base_uri": "https://localhost:8080/"
        },
        "outputId": "90d27b4d-57f8-4baa-b504-41b3676f7ecb"
      },
      "execution_count": 6,
      "outputs": [
        {
          "output_type": "stream",
          "name": "stdout",
          "text": [
            "\u001b[1m313/313\u001b[0m \u001b[32m━━━━━━━━━━━━━━━━━━━━\u001b[0m\u001b[37m\u001b[0m \u001b[1m1s\u001b[0m 2ms/step - accuracy: 0.9745 - loss: 0.0866\n",
            "Test accuracy: 0.9789\n"
          ]
        }
      ]
    },
    {
      "cell_type": "markdown",
      "source": [
        "<h3>학습된 모델을 이용한 시각화 표현<h3>\n",
        "\n",
        "python 라이브러리 중에서 matplotlib"
      ],
      "metadata": {
        "id": "P6fqwI6WEZ3G"
      }
    },
    {
      "cell_type": "code",
      "source": [
        "import matplotlib.pyplot as plt\n",
        "import numpy as np\n",
        "\n",
        "num_samples = 5\n",
        "random_indices = np.random.choice(len(x_test), num_samples, replace = False)\n",
        "sample_images = x_test[random_indices]\n",
        "sample_labels = y_test[random_indices]\n",
        "\n",
        "predictions = model.predict(sample_images)\n",
        "\n",
        "plt.figure(figsize=(10, 5))\n",
        "for i in range(num_samples):\n",
        "    plt.subplot(1, num_samples, i + 1)\n",
        "    plt.imshow(1. - sample_images[i].reshape(28, 28), cmap='gray')\n",
        "    plt.title(f\"True: {np.argmax(sample_labels[i])}, Pred: {np.argmax(predictions[i])}\")\n",
        "    plt.axis('off')\n",
        "plt.show()\n"
      ],
      "metadata": {
        "colab": {
          "base_uri": "https://localhost:8080/",
          "height": 210
        },
        "id": "zFpqq5_EEUIH",
        "outputId": "d293efed-5999-457d-9a76-56a20ed385ce"
      },
      "execution_count": 13,
      "outputs": [
        {
          "output_type": "stream",
          "name": "stdout",
          "text": [
            "\u001b[1m1/1\u001b[0m \u001b[32m━━━━━━━━━━━━━━━━━━━━\u001b[0m\u001b[37m\u001b[0m \u001b[1m0s\u001b[0m 40ms/step\n"
          ]
        },
        {
          "output_type": "display_data",
          "data": {
            "text/plain": [
              "<Figure size 1000x500 with 5 Axes>"
            ],
            "image/png": "[encoded data removed]"
          },
          "metadata": {}
        }
      ]
    }
  ]
}