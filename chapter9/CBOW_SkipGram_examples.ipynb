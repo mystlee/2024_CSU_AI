{
  "nbformat": 4,
  "nbformat_minor": 0,
  "metadata": {
    "colab": {
      "provenance": [],
      "gpuType": "T4",
      "authorship_tag": "ABX9TyMNGU5tVECYz3N4TVzUOYfp",
      "include_colab_link": true
    },
    "kernelspec": {
      "name": "python3",
      "display_name": "Python 3"
    },
    "language_info": {
      "name": "python"
    },
    "accelerator": "GPU"
  },
  "cells": [
    {
      "cell_type": "markdown",
      "metadata": {
        "id": "view-in-github",
        "colab_type": "text"
      },
      "source": [
        "<a href=\"https://colab.research.google.com/github/mystlee/2024_CSU_AI/blob/main/chapter9/CBOW_SkipGram_examples.ipynb\" target=\"_parent\"><img src=\"https://colab.research.google.com/assets/colab-badge.svg\" alt=\"Open In Colab\"/></a>"
      ]
    },
    {
      "cell_type": "code",
      "execution_count": 6,
      "metadata": {
        "colab": {
          "base_uri": "https://localhost:8080/"
        },
        "id": "d9BwIJxHI-xe",
        "outputId": "8db2ac59-0b2a-45d7-86e9-ab86cdf1257f"
      },
      "outputs": [
        {
          "output_type": "stream",
          "name": "stdout",
          "text": [
            "W: Skipping acquire of configured file 'main/source/Sources' as repository 'https://r2u.stat.illinois.edu/ubuntu jammy InRelease' does not seem to provide it (sources.list entry misspelt?)\n",
            "/usr/share/fonts: caching, new cache contents: 0 fonts, 1 dirs\n",
            "/usr/share/fonts/truetype: caching, new cache contents: 0 fonts, 3 dirs\n",
            "/usr/share/fonts/truetype/humor-sans: caching, new cache contents: 1 fonts, 0 dirs\n",
            "/usr/share/fonts/truetype/liberation: caching, new cache contents: 16 fonts, 0 dirs\n",
            "/usr/share/fonts/truetype/nanum: caching, new cache contents: 39 fonts, 0 dirs\n",
            "/usr/local/share/fonts: caching, new cache contents: 0 fonts, 0 dirs\n",
            "/root/.local/share/fonts: skipping, no such directory\n",
            "/root/.fonts: skipping, no such directory\n",
            "/usr/share/fonts/truetype: skipping, looped directory detected\n",
            "/usr/share/fonts/truetype/humor-sans: skipping, looped directory detected\n",
            "/usr/share/fonts/truetype/liberation: skipping, looped directory detected\n",
            "/usr/share/fonts/truetype/nanum: skipping, looped directory detected\n",
            "/var/cache/fontconfig: cleaning cache directory\n",
            "/root/.cache/fontconfig: not cleaning non-existent cache directory\n",
            "/root/.fontconfig: not cleaning non-existent cache directory\n",
            "fc-cache: succeeded\n",
            "Vocab Size: 22\n",
            "단어 인덱스 매핑: {'학교에': 0, '종일': 1, '나는': 2, '가는': 3, '피곤해서': 4, '친구와': 5, '하루': 6, '너무': 7, '수': 8, '쉬고': 9, '만날': 10, '친구들을': 11, '많은': 12, '지금': 13, '있다': 14, '가고': 15, '오늘': 16, '가면': 17, '집에': 18, '학교에서': 19, '싶다': 20, '중에': 21}\n"
          ]
        }
      ],
      "source": [
        "!apt-get update -qq\n",
        "!apt-get install fonts-nanum* -qq\n",
        "!fc-cache -fv\n",
        "\n",
        "import torch\n",
        "import torch.nn as nn\n",
        "import torch.optim as optim\n",
        "import torch.nn.functional as F\n",
        "from collections import defaultdict\n",
        "import itertools\n",
        "\n",
        "corpus = [\n",
        "    \"나는 지금 친구와 학교에 가고 있다\",\n",
        "    \"나는 학교에서 친구와 집에 가는 중에 있다\",\n",
        "    \"학교에 가면 많은 친구들을 만날 수 있다\",\n",
        "    \"오늘 너무 피곤해서 하루 종일 쉬고 싶다\"\n",
        "]\n",
        "\n",
        "tokenized_corpus = [sentence.split() for sentence in corpus]\n",
        "\n",
        "# word set (한국어)\n",
        "vocab = set(itertools.chain(*tokenized_corpus))\n",
        "word_to_ix = {word: i for i, word in enumerate(vocab)}\n",
        "ix_to_word = {i: word for word, i in word_to_ix.items()}\n",
        "vocab_size = len(vocab)\n",
        "\n",
        "print(f\"Vocab Size: {vocab_size}\")\n",
        "print(\"단어 인덱스 매핑:\", word_to_ix)"
      ]
    },
    {
      "cell_type": "code",
      "source": [
        "# context window size -> 3\n",
        "window_size = 3\n",
        "\n",
        "# CBOW와 Skip-gram용 데이터 생성\n",
        "def generate_cbow_skipgram(tokenized_corpus, word_to_ix, window_size):\n",
        "    cbow_data = []\n",
        "    skipgram_data = []\n",
        "    for sentence in tokenized_corpus:\n",
        "        sentence_length = len(sentence)\n",
        "        for i, target_word in enumerate(sentence):\n",
        "            context = []\n",
        "            # context window 범위 내의 word 수집\n",
        "            for j in range(i - window_size, i + window_size + 1):\n",
        "                if j != i and 0 <= j < sentence_length:\n",
        "                    context.append(word_to_ix[sentence[j]])\n",
        "            if context:\n",
        "                cbow_data.append((context, word_to_ix[target_word]))\n",
        "                for ctx_word in context:\n",
        "                    skipgram_data.append((word_to_ix[target_word], ctx_word))\n",
        "    return cbow_data, skipgram_data\n",
        "\n",
        "cbow_data, skipgram_data = generate_cbow_skipgram(tokenized_corpus, word_to_ix, window_size)\n",
        "\n",
        "print(\"\\nCBOW 데이터 샘플:\")\n",
        "print(cbow_data[:5])\n",
        "\n",
        "print(\"\\nSkip-gram 데이터 샘플:\")\n",
        "print(skipgram_data[:5])"
      ],
      "metadata": {
        "colab": {
          "base_uri": "https://localhost:8080/"
        },
        "id": "xsJ0vAefsBng",
        "outputId": "c0c96308-e333-46ed-f55b-c9809c7b1bac"
      },
      "execution_count": 7,
      "outputs": [
        {
          "output_type": "stream",
          "name": "stdout",
          "text": [
            "\n",
            "CBOW 데이터 샘플:\n",
            "[([13, 5, 0], 2), ([2, 5, 0, 15], 13), ([2, 13, 0, 15, 14], 5), ([2, 13, 5, 15, 14], 0), ([13, 5, 0, 14], 15)]\n",
            "\n",
            "Skip-gram 데이터 샘플:\n",
            "[(2, 13), (2, 5), (2, 0), (13, 2), (13, 5)]\n"
          ]
        }
      ]
    },
    {
      "cell_type": "code",
      "source": [
        "class CBOW(nn.Module):\n",
        "    def __init__(self, vocab_size, embedding_dim):\n",
        "        super(CBOW, self).__init__()\n",
        "        self.embeddings = nn.Embedding(vocab_size, embedding_dim)\n",
        "        self.linear = nn.Linear(embedding_dim, vocab_size)\n",
        "\n",
        "    def forward(self, context_words):\n",
        "        # context_words: [batch_size, context_size]\n",
        "        embeds = self.embeddings(context_words)  # [batch_size, context_size, embedding_dim]\n",
        "        embeds_mean = torch.mean(embeds, dim = 1)  # [batch_size, embedding_dim]\n",
        "        out = self.linear(embeds_mean)  # [batch_size, vocab_size]\n",
        "        log_probs = F.log_softmax(out, dim = 1)\n",
        "        return log_probs\n",
        "\n",
        "\n",
        "class SkipGram(nn.Module):\n",
        "    def __init__(self, vocab_size, embedding_dim):\n",
        "        super(SkipGram, self).__init__()\n",
        "        self.embeddings = nn.Embedding(vocab_size, embedding_dim)\n",
        "        self.linear = nn.Linear(embedding_dim, vocab_size)\n",
        "\n",
        "    def forward(self, center_words):\n",
        "        # center_words: [batch_size]\n",
        "        embeds = self.embeddings(center_words)  # [batch_size, embedding_dim]\n",
        "        out = self.linear(embeds)  # [batch_size, vocab_size]\n",
        "        log_probs = F.log_softmax(out, dim = 1)\n",
        "        return log_probs\n"
      ],
      "metadata": {
        "id": "daYH0NaUsDdv"
      },
      "execution_count": 8,
      "outputs": []
    },
    {
      "cell_type": "code",
      "source": [
        "embedding_dim = 16\n",
        "epochs = 100\n",
        "learning_rate = 0.01\n",
        "\n",
        "# CBOW training!\n",
        "cbow_model = CBOW(vocab_size, embedding_dim)\n",
        "cbow_optimizer = optim.SGD(cbow_model.parameters(), lr=learning_rate)\n",
        "cbow_loss_function = nn.NLLLoss()\n",
        "\n",
        "for epoch in range(epochs):\n",
        "    total_loss = 0\n",
        "    for context, target in cbow_data:\n",
        "        context_var = torch.tensor(context, dtype = torch.long).unsqueeze(0)\n",
        "        target_var = torch.tensor([target], dtype = torch.long)\n",
        "\n",
        "        cbow_optimizer.zero_grad()\n",
        "        log_probs = cbow_model(context_var)\n",
        "        loss = cbow_loss_function(log_probs, target_var)\n",
        "        loss.backward()\n",
        "        cbow_optimizer.step()\n",
        "\n",
        "        total_loss += loss.item()\n",
        "    if (epoch+1) % 20 == 0:\n",
        "        print(f\"CBOW Epoch {epoch+1}, Loss: {total_loss:.4f}\")\n",
        "\n",
        "# Skip-gram training!\n",
        "skipgram_model = SkipGram(vocab_size, embedding_dim)\n",
        "skipgram_optimizer = optim.SGD(skipgram_model.parameters(), lr=learning_rate)\n",
        "skipgram_loss_function = nn.NLLLoss()\n",
        "\n",
        "for epoch in range(epochs):\n",
        "    total_loss = 0\n",
        "    for center, context in skipgram_data:\n",
        "        center_var = torch.tensor([center], dtype = torch.long)\n",
        "        context_var = torch.tensor([context], dtype = torch.long)\n",
        "\n",
        "        skipgram_optimizer.zero_grad()\n",
        "        log_probs = skipgram_model(center_var)\n",
        "        loss = skipgram_loss_function(log_probs, context_var)\n",
        "        loss.backward()\n",
        "        skipgram_optimizer.step()\n",
        "\n",
        "        total_loss += loss.item()\n",
        "    if (epoch+1) % 20 == 0:\n",
        "        print(f\"Skip-gram Epoch {epoch + 1}, Loss: {total_loss:.4f}\")\n"
      ],
      "metadata": {
        "colab": {
          "base_uri": "https://localhost:8080/"
        },
        "id": "syR_u-UdsQG2",
        "outputId": "3a14773d-2199-4544-d1c8-dc8cfbfc3f75"
      },
      "execution_count": 9,
      "outputs": [
        {
          "output_type": "stream",
          "name": "stdout",
          "text": [
            "CBOW Epoch 20, Loss: 72.5501\n",
            "CBOW Epoch 40, Loss: 61.2583\n",
            "CBOW Epoch 60, Loss: 52.0808\n",
            "CBOW Epoch 80, Loss: 44.3982\n",
            "CBOW Epoch 100, Loss: 37.9250\n",
            "Skip-gram Epoch 20, Loss: 260.0801\n",
            "Skip-gram Epoch 40, Loss: 227.6208\n",
            "Skip-gram Epoch 60, Loss: 214.8633\n",
            "Skip-gram Epoch 80, Loss: 209.6473\n",
            "Skip-gram Epoch 100, Loss: 207.1475\n"
          ]
        }
      ]
    },
    {
      "cell_type": "code",
      "source": [
        "def get_embeddings(model):\n",
        "    return model.embeddings.weight.data.cpu().numpy()\n",
        "\n",
        "cbow_embeddings = get_embeddings(cbow_model)\n",
        "skipgram_embeddings = get_embeddings(skipgram_model)\n",
        "\n",
        "print(\"\\nCBOW embedding:\")\n",
        "for word, ix in word_to_ix.items():\n",
        "    formatted = ', '.join(f\"{x:.2f}\" for x in cbow_embeddings[ix])\n",
        "    print(f\"{word}: [{formatted}]\")\n",
        "\n",
        "print(\"\\nSkip-gram embedding:\")\n",
        "for word, ix in word_to_ix.items():\n",
        "    formatted = ', '.join(f\"{x:.2f}\" for x in skipgram_embeddings[ix])\n",
        "    print(f\"{word}: [{formatted}]\")\n"
      ],
      "metadata": {
        "colab": {
          "base_uri": "https://localhost:8080/"
        },
        "id": "HSS3Wii3sTV-",
        "outputId": "faabc927-9202-4cee-c5a6-4f35455cc48f"
      },
      "execution_count": 10,
      "outputs": [
        {
          "output_type": "stream",
          "name": "stdout",
          "text": [
            "\n",
            "CBOW embedding:\n",
            "학교에: [-0.44, -1.89, 0.97, -0.47, -1.56, -1.51, 1.85, -0.49, 1.46, -0.37, -1.51, 0.37, -0.71, -0.41, -2.30, 0.31]\n",
            "종일: [0.34, 0.14, -0.39, 1.22, 0.82, 0.01, 0.13, 0.65, 2.09, 1.45, 2.05, 2.62, -2.39, -0.89, 0.82, -1.19]\n",
            "나는: [2.48, -0.24, 1.09, -1.51, 0.73, -0.61, 0.19, -0.83, -1.89, 0.21, 1.32, -0.16, -0.78, 1.28, 0.21, -0.96]\n",
            "가는: [0.02, 0.02, 0.24, 0.26, -0.43, 0.36, -1.06, -0.08, -0.16, -0.74, 0.59, -0.19, 0.15, -0.20, 1.46, -0.25]\n",
            "피곤해서: [-0.19, 1.46, -0.84, -0.96, -0.04, 1.43, 0.68, 0.66, 1.31, -1.85, -1.12, -0.35, -0.89, -1.25, -0.55, -2.46]\n",
            "친구와: [0.50, 0.93, 0.14, -1.68, -1.16, -0.19, 1.24, -0.00, -2.60, -1.87, -0.73, -1.71, 0.47, 0.20, 0.39, 0.14]\n",
            "하루: [0.60, 0.16, 1.32, 0.57, -0.96, -0.69, 0.88, 0.09, -0.01, 0.89, -2.05, 0.05, 1.48, -1.09, 0.22, 1.23]\n",
            "너무: [1.08, -0.11, -1.34, 0.15, 1.46, 1.63, -0.96, 0.58, -0.54, -0.66, -1.91, -1.01, -0.07, 0.80, -1.04, 0.59]\n",
            "수: [-0.54, -0.06, -0.67, -0.62, 1.10, 0.94, 0.68, 1.07, -0.14, 0.12, -0.66, 0.34, -0.35, 0.11, -0.17, 1.06]\n",
            "쉬고: [-1.24, -0.55, 0.43, -1.59, 1.35, -1.55, 0.74, 0.02, 1.34, 1.44, -0.02, 1.75, 1.60, 0.61, 0.41, 0.05]\n",
            "만날: [0.50, -0.83, 0.67, 2.27, -0.63, -0.02, 0.73, -1.31, 1.08, -1.09, 0.38, 0.80, 0.15, 1.55, 0.53, 1.27]\n",
            "친구들을: [-0.61, 0.78, 0.94, -1.53, 1.10, -0.72, 0.22, 2.02, -0.75, -0.64, -0.19, 0.50, 1.18, 1.50, -0.74, -0.11]\n",
            "많은: [-0.35, 1.20, 0.70, -0.96, 0.52, -0.79, 0.86, 0.13, 0.43, -1.44, -0.43, 0.81, -0.72, 0.15, -1.50, -0.54]\n",
            "지금: [0.34, -0.67, 0.74, 0.36, 1.14, -0.70, -0.51, 0.49, 2.19, 1.87, 1.35, 0.22, -0.23, 0.52, -0.73, 0.57]\n",
            "있다: [-1.98, -1.67, -1.42, 0.09, 0.21, 0.06, -1.64, 0.07, -0.04, -0.19, 0.85, -0.27, -2.15, -1.75, 0.20, 1.39]\n",
            "가고: [-0.56, 0.42, -0.27, 0.14, 0.29, 1.06, -1.41, -0.11, 0.14, -1.30, -1.61, 1.44, 1.01, 0.19, 0.30, -1.45]\n",
            "오늘: [-1.31, 0.65, -0.93, -0.44, 0.98, 0.78, -1.23, -0.81, -0.65, -0.49, 0.00, -0.14, -1.11, 2.47, 0.55, 1.48]\n",
            "가면: [-0.31, 0.23, 0.03, -1.48, -1.30, 0.86, 2.28, 2.09, -1.54, -0.55, -0.55, -0.73, 0.41, 0.90, -0.92, -0.02]\n",
            "집에: [-0.08, -0.62, 1.02, -0.10, -2.07, -0.30, 1.57, 1.07, 1.57, -0.33, 1.71, -0.46, -0.24, 0.78, 1.28, -1.96]\n",
            "학교에서: [-0.11, -1.06, -1.74, 0.64, -1.63, -1.57, 0.09, -1.00, -1.22, 1.06, 0.95, -0.97, -1.60, -0.46, -1.37, -0.70]\n",
            "싶다: [0.90, 1.32, 0.90, 0.41, 1.16, 0.09, 2.45, 0.20, 0.27, -0.58, -1.27, 0.81, 1.25, -0.85, -1.41, -0.32]\n",
            "중에: [1.15, -0.77, 1.36, -0.49, 0.47, -0.59, -1.02, -0.22, 0.74, -0.60, -1.47, 0.42, 1.15, 0.14, -0.42, 0.20]\n",
            "\n",
            "Skip-gram embedding:\n",
            "학교에: [-0.46, -1.00, 0.67, -0.16, 1.45, 1.54, 1.63, -0.27, 0.55, -1.23, 0.53, -1.31, 0.55, 1.08, -1.63, -1.87]\n",
            "종일: [-0.82, 0.36, 0.06, -1.75, 0.69, -0.42, -0.40, -0.97, -0.53, 2.61, -2.51, 1.07, 0.10, -0.29, -0.97, 0.41]\n",
            "나는: [-1.37, -0.24, 1.51, -0.63, -0.26, 0.79, 1.55, -0.76, 0.02, -0.32, -1.58, 1.88, 1.72, 0.54, 0.94, -0.00]\n",
            "가는: [-0.83, 0.78, 0.50, -0.16, 0.59, 0.75, 0.27, -0.48, 0.49, -0.03, -1.27, -1.12, -2.00, -0.15, -1.16, 1.13]\n",
            "피곤해서: [0.14, -2.12, -1.02, -0.76, -0.41, -1.97, 0.62, 0.17, -0.47, -0.27, -0.93, -0.01, 0.74, -0.22, -0.33, 1.39]\n",
            "친구와: [0.54, 0.63, -0.36, 0.54, 1.64, 0.75, 1.84, 0.43, 0.85, -1.53, -0.02, 1.74, -0.14, 0.65, 0.39, -0.13]\n",
            "하루: [0.20, -0.17, 0.14, 0.59, -0.65, 0.02, -1.50, 2.39, -1.00, 0.21, 0.71, 1.44, 0.92, -0.04, -0.94, 1.22]\n",
            "너무: [-0.24, -0.31, 1.32, -0.53, 0.82, -2.08, 0.96, 0.56, 0.47, 0.01, -1.10, -0.50, 1.85, -1.78, 0.90, -0.18]\n",
            "수: [0.92, 0.57, -1.01, -0.57, -0.42, -0.11, -2.28, -1.07, -0.10, -0.59, 0.97, -0.30, 1.72, 0.81, -0.64, -0.34]\n",
            "쉬고: [-0.26, 0.82, -1.82, -0.13, -0.78, -1.18, -1.32, 0.07, 0.40, 1.26, -0.89, 1.20, 1.91, 1.26, 1.67, 0.51]\n",
            "만날: [1.56, -0.29, 1.30, -1.22, -0.51, 0.56, -1.21, -0.49, 1.17, 0.73, -0.18, -0.51, -1.74, -1.11, 0.99, -0.91]\n",
            "친구들을: [0.95, 0.41, -0.44, 0.12, -0.13, 0.37, -0.78, 0.09, -1.31, -0.54, 0.06, 1.39, -1.67, -1.84, 0.23, -1.55]\n",
            "많은: [-0.61, 1.28, 1.65, 0.24, 0.44, -1.40, -0.49, -1.01, -0.77, 2.16, 0.79, -0.16, -0.81, 0.94, 0.51, 0.22]\n",
            "지금: [-1.18, -0.22, 0.03, 1.46, -0.15, 0.27, -0.24, 0.06, -1.23, 0.51, -0.89, 0.30, 1.60, 2.05, 1.70, 0.86]\n",
            "있다: [1.03, 1.79, -0.00, -2.11, 0.22, 1.60, 1.45, -0.52, 0.18, -0.43, 0.81, 0.20, 1.89, -0.67, 1.86, -0.12]\n",
            "가고: [-1.00, -0.24, 1.03, -0.30, 1.52, 1.94, -1.30, 0.24, 0.96, -0.69, 0.35, 0.20, -2.37, 0.51, 0.77, 0.52]\n",
            "오늘: [-0.19, -0.90, -1.35, -0.17, -1.37, -0.68, -0.37, 0.44, 2.18, 1.12, 0.05, -0.02, -0.05, -0.12, -0.04, 0.61]\n",
            "가면: [-0.87, 0.53, 1.20, -1.97, 1.57, 0.15, -0.32, 0.92, -0.20, 0.11, 1.32, 0.10, 0.01, 0.10, 0.87, -1.47]\n",
            "집에: [1.69, 0.41, 1.56, 1.20, 0.23, 0.50, 0.06, 0.35, 1.85, 0.34, -2.13, -1.75, 0.73, 0.50, -0.73, 1.18]\n",
            "학교에서: [-0.24, 0.58, -0.12, 1.38, -0.98, 1.78, 1.73, -0.32, 0.14, 2.59, -0.32, 1.18, -0.02, -1.29, 0.90, 1.49]\n",
            "싶다: [0.52, -0.29, -1.30, -0.17, 1.65, -1.74, -0.81, -0.17, -0.70, -1.15, 0.54, -0.55, 0.57, -0.16, -0.32, 1.92]\n",
            "중에: [-0.55, 0.41, 0.26, 1.27, -1.35, 0.50, -1.18, -2.12, 1.77, -0.12, 0.04, 1.10, -0.00, 0.16, -0.00, 1.48]\n"
          ]
        }
      ]
    },
    {
      "cell_type": "code",
      "source": [
        "# 예시) CBOW 모델에서 \"학교에서\"를 중심 단어로 예측\n",
        "target_word = \"학교에서\"\n",
        "context_words = [\"나는\", \"친구와\"]\n",
        "\n",
        "# word -> index (tensor)\n",
        "context_indices = [word_to_ix[word] for word in context_words]\n",
        "target_index = word_to_ix[target_word]\n",
        "context_var = torch.tensor(context_indices, dtype = torch.long).unsqueeze(0)  # [1, context_size]\n",
        "target_var = torch.tensor([target_index], dtype = torch.long)  # [1]\n",
        "\n",
        "cbow_model.eval()\n",
        "with torch.no_grad():\n",
        "    log_probs = cbow_model(context_var)\n",
        "    predicted_prob = torch.exp(log_probs)\n",
        "    predicted_word = torch.argmax(predicted_prob, dim=1).item()\n",
        "\n",
        "print(f\"\\nCBOW prediction\")\n",
        "print(f\"context words: {context_words}\")\n",
        "print(f\"pred. center words: {predicted_word}, 단어: {ix_to_word[predicted_word]}\")\n",
        "print(f\"GT center word: {target_index}, 단어: {target_word}\")\n"
      ],
      "metadata": {
        "colab": {
          "base_uri": "https://localhost:8080/"
        },
        "id": "XObPc3rosW-4",
        "outputId": "95442dec-6355-4e0a-d5a5-7b14301fcc83"
      },
      "execution_count": 13,
      "outputs": [
        {
          "output_type": "stream",
          "name": "stdout",
          "text": [
            "\n",
            "CBOW prediction\n",
            "context words: ['나는', '친구와']\n",
            "pred. center words: 19, 단어: 학교에서\n",
            "GT center word: 19, 단어: 학교에서\n"
          ]
        }
      ]
    },
    {
      "cell_type": "code",
      "source": [
        "# 예시) Skip-gram 모델에서 \"학교에\"를 중심 단어로 주변 단어 예측\n",
        "center_word = \"학교에서\"\n",
        "context_words = [\"나는\", \"친구와\"]\n",
        "\n",
        "# word -> index (tensor)\n",
        "center_index = word_to_ix[center_word]\n",
        "context_indices = [word_to_ix[word] for word in context_words]\n",
        "center_var = torch.tensor([center_index], dtype=torch.long)  # (1)\n",
        "\n",
        "skipgram_model.eval()\n",
        "with torch.no_grad():\n",
        "    log_probs = skipgram_model(center_var)\n",
        "    predicted_probs = torch.exp(log_probs)\n",
        "    topk = torch.topk(predicted_probs, k=2, dim=1)\n",
        "    predicted_indices = topk.indices[0].tolist()\n",
        "    predicted_words = [ix_to_word[ix] for ix in predicted_indices]\n",
        "\n",
        "print(f\"\\nSkip-gram 모델 예측:\")\n",
        "print(f\"center words: {center_word}\")\n",
        "print(f\"pred. context word: {predicted_words}\")\n",
        "print(f\"GT context word: {context_words}\")"
      ],
      "metadata": {
        "colab": {
          "base_uri": "https://localhost:8080/"
        },
        "id": "qMsb_sl6sYSH",
        "outputId": "05b151a1-ff26-4643-c327-5c99f269b8d2"
      },
      "execution_count": 16,
      "outputs": [
        {
          "output_type": "stream",
          "name": "stdout",
          "text": [
            "\n",
            "Skip-gram 모델 예측:\n",
            "center words: 학교에서\n",
            "pred. context word: ['가는', '집에']\n",
            "GT context word: ['나는', '친구와']\n"
          ]
        }
      ]
    },
    {
      "cell_type": "code",
      "source": [
        "input_sentence = \"나는 학교에서 친구와\"\n",
        "tokenized_input = input_sentence.split()\n",
        "print(f\"\\n입력 문장: {input_sentence}\")\n",
        "print(f\"토큰화된 입력: {tokenized_input}\")\n"
      ],
      "metadata": {
        "colab": {
          "base_uri": "https://localhost:8080/"
        },
        "id": "u-lE8l2FsZfW",
        "outputId": "a04bd151-1d84-455c-a3a1-7d25d2a9fec3"
      },
      "execution_count": 17,
      "outputs": [
        {
          "output_type": "stream",
          "name": "stdout",
          "text": [
            "\n",
            "입력 문장: 나는 학교에서 친구와\n",
            "토큰화된 입력: ['나는', '학교에서', '친구와']\n"
          ]
        }
      ]
    },
    {
      "cell_type": "code",
      "source": [
        "input_indices = [word_to_ix[word] for word in tokenized_input]\n",
        "print(f\"단어 인덱스 매핑: {input_indices}\")"
      ],
      "metadata": {
        "colab": {
          "base_uri": "https://localhost:8080/"
        },
        "id": "E20a0wEescQ0",
        "outputId": "014feb61-7350-4166-f1e9-7808c580d2f0"
      },
      "execution_count": 18,
      "outputs": [
        {
          "output_type": "stream",
          "name": "stdout",
          "text": [
            "단어 인덱스 매핑: [2, 19, 5]\n"
          ]
        }
      ]
    },
    {
      "cell_type": "code",
      "source": [
        "def get_word_embeddings(model, word_indices):\n",
        "    with torch.no_grad():\n",
        "        embeds = model.embeddings(torch.tensor(word_indices, dtype = torch.long))\n",
        "    return embeds.numpy()\n",
        "\n",
        "cbow_input_embeddings = get_word_embeddings(cbow_model, input_indices)\n",
        "skipgram_input_embeddings = get_word_embeddings(skipgram_model, input_indices)\n",
        "\n",
        "\n",
        "print(f\"\\nCBOW word embedding\")\n",
        "for word, embed in zip(tokenized_input, cbow_input_embeddings):\n",
        "    formatted = ', '.join(f\"{x:.2f}\" for x in embed)\n",
        "    print(f\"{word}: {formatted}\")\n",
        "\n",
        "print(f\"\\nSkip-gram word embedding\")\n",
        "for word, embed in zip(tokenized_input, skipgram_input_embeddings):\n",
        "    formatted = ', '.join(f\"{x:.2f}\" for x in embed)\n",
        "    print(f\"{word}: {formatted}\")\n",
        "\n"
      ],
      "metadata": {
        "colab": {
          "base_uri": "https://localhost:8080/"
        },
        "id": "9CJp-HwAsdnZ",
        "outputId": "7e464d1e-2e73-4cd3-eb45-fd342e9d7bc0"
      },
      "execution_count": 20,
      "outputs": [
        {
          "output_type": "stream",
          "name": "stdout",
          "text": [
            "\n",
            "CBOW word embedding\n",
            "나는: 2.48, -0.24, 1.09, -1.51, 0.73, -0.61, 0.19, -0.83, -1.89, 0.21, 1.32, -0.16, -0.78, 1.28, 0.21, -0.96\n",
            "학교에서: -0.11, -1.06, -1.74, 0.64, -1.63, -1.57, 0.09, -1.00, -1.22, 1.06, 0.95, -0.97, -1.60, -0.46, -1.37, -0.70\n",
            "친구와: 0.50, 0.93, 0.14, -1.68, -1.16, -0.19, 1.24, -0.00, -2.60, -1.87, -0.73, -1.71, 0.47, 0.20, 0.39, 0.14\n",
            "\n",
            "Skip-gram word embedding\n",
            "나는: -1.37, -0.24, 1.51, -0.63, -0.26, 0.79, 1.55, -0.76, 0.02, -0.32, -1.58, 1.88, 1.72, 0.54, 0.94, -0.00\n",
            "학교에서: -0.24, 0.58, -0.12, 1.38, -0.98, 1.78, 1.73, -0.32, 0.14, 2.59, -0.32, 1.18, -0.02, -1.29, 0.90, 1.49\n",
            "친구와: 0.54, 0.63, -0.36, 0.54, 1.64, 0.75, 1.84, 0.43, 0.85, -1.53, -0.02, 1.74, -0.14, 0.65, 0.39, -0.13\n"
          ]
        }
      ]
    },
    {
      "cell_type": "code",
      "source": [
        "# CBOW: 주변 단어 -> 중심 단어\n",
        "cbow_context = [word_to_ix[word] for word in [\"나는\", \"친구와\"]]\n",
        "cbow_target = word_to_ix[\"학교에서\"]\n",
        "\n",
        "# Skip-gram: 중심 단어 -> 주변 단어\n",
        "skipgram_center = word_to_ix[\"학교에서\"]\n",
        "skipgram_context = [word_to_ix[word] for word in [\"나는\", \"친구와\"]]\n",
        "\n",
        "print(f\"CBOW context indices: {cbow_context}\")\n",
        "print(f\"CBOW target index: {cbow_target}\")\n",
        "print()\n",
        "print(f\"Skip-gram center index: {skipgram_center}\")\n",
        "print(f\"Skip-gram context indices: {skipgram_context}\")"
      ],
      "metadata": {
        "colab": {
          "base_uri": "https://localhost:8080/"
        },
        "id": "_TeI69_cse9X",
        "outputId": "5cd31fd5-6967-4550-8bb1-1e1958a53f5f"
      },
      "execution_count": 22,
      "outputs": [
        {
          "output_type": "stream",
          "name": "stdout",
          "text": [
            "CBOW context indices: [2, 5]\n",
            "CBOW target index: 19\n",
            "\n",
            "Skip-gram center index: 19\n",
            "Skip-gram context indices: [2, 5]\n"
          ]
        }
      ]
    },
    {
      "cell_type": "code",
      "source": [
        "# CBOW\n",
        "cbow_model.eval()\n",
        "with torch.no_grad():\n",
        "    cbow_context_var = torch.tensor([cbow_context], dtype = torch.long)  # [1, context_size]\n",
        "    cbow_log_probs = cbow_model(cbow_context_var)\n",
        "    cbow_pred_prob = torch.exp(cbow_log_probs)\n",
        "    cbow_pred_word = torch.argmax(cbow_pred_prob, dim=1).item()\n",
        "\n",
        "print(\"CBOW example\")\n",
        "print(f\"CBOW pred.: {ix_to_word[cbow_pred_word]}\")\n",
        "print(f\"GT center word: {ix_to_word[cbow_target]}\")\n"
      ],
      "metadata": {
        "colab": {
          "base_uri": "https://localhost:8080/"
        },
        "id": "QptoqRlYsjvG",
        "outputId": "0c8c3511-34cb-4da0-bf39-498e99a2d447"
      },
      "execution_count": 23,
      "outputs": [
        {
          "output_type": "stream",
          "name": "stdout",
          "text": [
            "CBOW example\n",
            "CBOW pred.: 학교에서\n",
            "GT center word: 학교에서\n"
          ]
        }
      ]
    },
    {
      "cell_type": "code",
      "source": [
        "skipgram_model.eval()\n",
        "with torch.no_grad():\n",
        "    skipgram_center_var = torch.tensor([skipgram_center], dtype=torch.long)  # (1)\n",
        "    skipgram_log_probs = skipgram_model(skipgram_center_var)\n",
        "    skipgram_pred_prob = torch.exp(skipgram_log_probs)\n",
        "    skipgram_topk = torch.topk(skipgram_pred_prob, k=2, dim=1)\n",
        "    skipgram_pred_indices = skipgram_topk.indices[0].tolist()\n",
        "    skipgram_pred_words = [ix_to_word[ix] for ix in skipgram_pred_indices]\n",
        "\n",
        "print(\"Skip-gram example\")\n",
        "print(f\"Skip-gram pred.: {skipgram_pred_words}\")\n",
        "print(f\"GT context words: {[ix_to_word[ix] for ix in skipgram_context]}\")"
      ],
      "metadata": {
        "colab": {
          "base_uri": "https://localhost:8080/"
        },
        "id": "V7fFYGM1sk5D",
        "outputId": "64c0f34d-4577-4747-a016-3386d5e5d911"
      },
      "execution_count": 25,
      "outputs": [
        {
          "output_type": "stream",
          "name": "stdout",
          "text": [
            "Skip-gram example\n",
            "Skip-gram pred.: ['가는', '집에']\n",
            "GT context words: ['나는', '친구와']\n"
          ]
        }
      ]
    },
    {
      "cell_type": "code",
      "source": [
        "import matplotlib.pyplot as plt\n",
        "import matplotlib.font_manager as fm\n",
        "from sklearn.manifold import TSNE\n",
        "import matplotlib as mpl\n",
        "\n",
        "# 폰트 조절\n",
        "font_path = '/usr/share/fonts/truetype/nanum/NanumGothic.ttf'\n",
        "font_prop = fm.FontProperties(fname = font_path, size = 12)\n",
        "mpl.rcParams['font.family'] = 'sans-serif'\n",
        "mpl.rcParams['font.sans-serif'] = ['NanumGothic'] + mpl.rcParams['font.sans-serif']\n",
        "mpl.rcParams['axes.unicode_minus'] = False\n",
        "\n",
        "def plot_embeddings(embeddings, ix_to_word, title, font_prop):\n",
        "    from sklearn.manifold import TSNE\n",
        "    import matplotlib.pyplot as plt\n",
        "\n",
        "    n_samples = embeddings.shape[0]\n",
        "    perplexity = min(5, n_samples - 1)  # t-SNE의 perplexity는 n_samples보다 작아야 함\n",
        "\n",
        "    tsne = TSNE(n_components = 2, random_state = 0, perplexity = perplexity)\n",
        "    reduced_embeddings = tsne.fit_transform(embeddings)\n",
        "\n",
        "    plt.figure(figsize=(8, 6))\n",
        "    for i, (x, y) in enumerate(reduced_embeddings):\n",
        "        plt.scatter(x, y)\n",
        "        plt.annotate(ix_to_word[i], (x, y), fontproperties=font_prop)\n",
        "    plt.title(title, fontproperties=font_prop)\n",
        "    plt.xlabel('Dimension 1', fontproperties=font_prop)\n",
        "    plt.ylabel('Dimension 2', fontproperties=font_prop)\n",
        "    plt.show()\n",
        "\n",
        "# CBOW 임베딩 시각화\n",
        "plot_embeddings(cbow_embeddings, ix_to_word, \"CBOW Embeddings Visualization\", font_prop=font_prop)\n",
        "print()\n",
        "# Skip-gram 임베딩 시각화\n",
        "plot_embeddings(skipgram_embeddings, ix_to_word, \"Skip-gram Embeddings Visualization\", font_prop=font_prop)\n"
      ],
      "metadata": {
        "colab": {
          "base_uri": "https://localhost:8080/",
          "height": 1000
        },
        "id": "EmJTt6iEsmlH",
        "outputId": "79d38964-2f2c-475a-cec2-1dcc1afe681a"
      },
      "execution_count": 27,
      "outputs": [
        {
          "output_type": "display_data",
          "data": {
            "text/plain": [
              "<Figure size 800x600 with 1 Axes>"
            ],
            "image/png": "[encoded data removed]"
          },
          "metadata": {}
        },
        {
          "output_type": "stream",
          "name": "stdout",
          "text": [
            "\n"
          ]
        },
        {
          "output_type": "display_data",
          "data": {
            "text/plain": [
              "<Figure size 800x600 with 1 Axes>"
            ],
            "image/png": "[encoded data removed]"
          },
          "metadata": {}
        }
      ]
    }
  ]
}