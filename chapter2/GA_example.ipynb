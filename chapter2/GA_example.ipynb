{
  "nbformat": 4,
  "nbformat_minor": 0,
  "metadata": {
    "colab": {
      "provenance": []
    },
    "kernelspec": {
      "name": "python3",
      "display_name": "Python 3"
    },
    "language_info": {
      "name": "python"
    }
  },
  "cells": [
    {
      "cell_type": "markdown",
      "source": [
        "**Knapsack Problem을 해결하기 위한 genetic algorithm**\n",
        "\n",
        "Knapsack Problem (배낭 문제)\n",
        "- 각 돌은 고유한 무게와 상응하는 가치를 가지고 있음\n",
        "- 가방에는 최대 무게 수용량이 있음\n",
        "- **목표**: 가방에 담을 수 있는 최대한의 돌을 담으면서 가치를 최대화 하는 task"
      ],
      "metadata": {
        "id": "_BSL5ofYYE69"
      }
    },
    {
      "cell_type": "code",
      "source": [
        "import random\n",
        "\n",
        "# 각 돌의 무게와 가치\n",
        "weights = [2, 3, 6, 7, 5]\n",
        "values = [6, 5, 8, 9, 6]\n",
        "\n",
        "# 가방의 최대 무게\n",
        "max_weight = 15"
      ],
      "metadata": {
        "id": "YkGE83XJYETp"
      },
      "execution_count": null,
      "outputs": []
    },
    {
      "cell_type": "markdown",
      "source": [
        "유전자 정의\n",
        "onehot vector를 이용하여 각 돌을 담을지 (1) 또는 담지 않을지 (0)으로 표현"
      ],
      "metadata": {
        "id": "Ha8i4ksMYaFd"
      }
    },
    {
      "cell_type": "code",
      "source": [
        "def generate_individual():\n",
        "    return [random.randint(0, 1) for _ in range(len(weights))]"
      ],
      "metadata": {
        "id": "A83l5294YjZU"
      },
      "execution_count": null,
      "outputs": []
    },
    {
      "cell_type": "markdown",
      "source": [
        "초기 population 생성"
      ],
      "metadata": {
        "id": "_0jHm0gdYlcu"
      }
    },
    {
      "cell_type": "code",
      "source": [
        "def generate_population(size):\n",
        "    return [generate_individual() for _ in range(size)]"
      ],
      "metadata": {
        "id": "B3sXPqgxYol6"
      },
      "execution_count": null,
      "outputs": []
    },
    {
      "cell_type": "markdown",
      "source": [
        "Fitness function은 가방의 무게가 제한을 넘지 않으면 가치를 반환하고, 넘으면 0 반환"
      ],
      "metadata": {
        "id": "WFl3tJA6Yp-p"
      }
    },
    {
      "cell_type": "code",
      "source": [
        "def fitness(individual):\n",
        "    total_weight = sum([individual[i] * weights[i] for i in range(len(individual))])\n",
        "    total_value = sum([individual[i] * values[i] for i in range(len(individual))])\n",
        "    if total_weight > max_weight:\n",
        "        return 0  # 무게 초과 시 적합도 0\n",
        "    else:\n",
        "        return total_value"
      ],
      "metadata": {
        "id": "P-lKdKczYuxa"
      },
      "execution_count": null,
      "outputs": []
    },
    {
      "cell_type": "markdown",
      "source": [
        "Selection은 적합도가 높은 개체 선택 (룰렛 휠 선택 방식)"
      ],
      "metadata": {
        "id": "G0DxzwkCYxcT"
      }
    },
    {
      "cell_type": "code",
      "source": [
        "def selection(population):\n",
        "    weighted_population = [(individual, fitness(individual)) for individual in population]\n",
        "    total_fitness = sum([f for _, f in weighted_population])\n",
        "    if total_fitness == 0:  # 모든 적합도가 0이면 무작위 선택\n",
        "        return random.choice(population)\n",
        "\n",
        "    pick = random.uniform(0, total_fitness)\n",
        "    current = 0\n",
        "    for individual, fit in weighted_population:\n",
        "        current += fit\n",
        "        if current > pick:\n",
        "            return individual"
      ],
      "metadata": {
        "id": "AOjCYrkJY19S"
      },
      "execution_count": null,
      "outputs": []
    },
    {
      "cell_type": "markdown",
      "source": [
        "Crossover - 두 부모 개체의 일부 유전자를 교환"
      ],
      "metadata": {
        "id": "i--_CEU6Y4Bf"
      }
    },
    {
      "cell_type": "code",
      "source": [
        "def crossover(parent1, parent2):\n",
        "    crossover_point = random.randint(1, len(parent1) - 1)\n",
        "    child1 = parent1[:crossover_point] + parent2[crossover_point:]\n",
        "    child2 = parent2[:crossover_point] + parent1[crossover_point:]\n",
        "    return child1, child2"
      ],
      "metadata": {
        "id": "qdUWXYV9Y649"
      },
      "execution_count": null,
      "outputs": []
    },
    {
      "cell_type": "markdown",
      "source": [
        "Mutation - 개체의 유전자를 무작위로 변형"
      ],
      "metadata": {
        "id": "GNV0MjobY9Ze"
      }
    },
    {
      "cell_type": "code",
      "source": [
        "def mutate(individual, mutation_rate=0.1):\n",
        "    for i in range(len(individual)):\n",
        "        if random.random() < mutation_rate:\n",
        "            individual[i] = 1 - individual[i]  # 0 -> 1, 1 -> 0으로 변이"
      ],
      "metadata": {
        "id": "o_AZo-DEZBPK"
      },
      "execution_count": null,
      "outputs": []
    },
    {
      "cell_type": "markdown",
      "source": [
        "Genetic algorihm 정의"
      ],
      "metadata": {
        "id": "5bK1MfLnZG37"
      }
    },
    {
      "cell_type": "code",
      "source": [
        "def genetic_algorithm(population_size=10, generations=100, mutation_rate=0.1):\n",
        "    population = generate_population(population_size)\n",
        "\n",
        "    for generation in range(generations):\n",
        "        new_population = []\n",
        "\n",
        "        # 다음 세대 생성\n",
        "        for _ in range(population_size // 2):  # 두 개체씩 교차하기 때문에 반으로 나눔\n",
        "            parent1 = selection(population)\n",
        "            parent2 = selection(population)\n",
        "            child1, child2 = crossover(parent1, parent2)\n",
        "            mutate(child1, mutation_rate)\n",
        "            mutate(child2, mutation_rate)\n",
        "            new_population.extend([child1, child2])\n",
        "\n",
        "        population = new_population\n",
        "\n",
        "        # 현재 세대에서 최고의 개체 출력\n",
        "        best_individual = max(population, key=fitness)\n",
        "        print(f\"Generation {generation}: Best fitness = {fitness(best_individual)}\")\n",
        "\n",
        "    # 최종 최적 해 출력\n",
        "    best_individual = max(population, key=fitness)\n",
        "    print(f\"Best solution: {best_individual}, Fitness: {fitness(best_individual)}\")\n"
      ],
      "metadata": {
        "id": "zL_1oCAPZF5P"
      },
      "execution_count": null,
      "outputs": []
    },
    {
      "cell_type": "code",
      "source": [
        "genetic_algorithm() # 유전 알고리즘 실행"
      ],
      "metadata": {
        "colab": {
          "base_uri": "https://localhost:8080/"
        },
        "id": "FIBIFZraZNUe",
        "outputId": "37f0d92a-4295-4a82-dc60-c00695af0217"
      },
      "execution_count": null,
      "outputs": [
        {
          "output_type": "stream",
          "name": "stdout",
          "text": [
            "Generation 0: Best fitness = 20\n",
            "Generation 1: Best fitness = 21\n",
            "Generation 2: Best fitness = 21\n",
            "Generation 3: Best fitness = 21\n",
            "Generation 4: Best fitness = 21\n",
            "Generation 5: Best fitness = 21\n",
            "Generation 6: Best fitness = 21\n",
            "Generation 7: Best fitness = 21\n",
            "Generation 8: Best fitness = 23\n",
            "Generation 9: Best fitness = 23\n",
            "Generation 10: Best fitness = 21\n",
            "Generation 11: Best fitness = 23\n",
            "Generation 12: Best fitness = 23\n",
            "Generation 13: Best fitness = 23\n",
            "Generation 14: Best fitness = 21\n",
            "Generation 15: Best fitness = 20\n",
            "Generation 16: Best fitness = 20\n",
            "Generation 17: Best fitness = 20\n",
            "Generation 18: Best fitness = 20\n",
            "Generation 19: Best fitness = 21\n",
            "Generation 20: Best fitness = 20\n",
            "Generation 21: Best fitness = 20\n",
            "Generation 22: Best fitness = 15\n",
            "Generation 23: Best fitness = 20\n",
            "Generation 24: Best fitness = 20\n",
            "Generation 25: Best fitness = 20\n",
            "Generation 26: Best fitness = 20\n",
            "Generation 27: Best fitness = 20\n",
            "Generation 28: Best fitness = 20\n",
            "Generation 29: Best fitness = 20\n",
            "Generation 30: Best fitness = 20\n",
            "Generation 31: Best fitness = 20\n",
            "Generation 32: Best fitness = 20\n",
            "Generation 33: Best fitness = 20\n",
            "Generation 34: Best fitness = 20\n",
            "Generation 35: Best fitness = 20\n",
            "Generation 36: Best fitness = 20\n",
            "Generation 37: Best fitness = 20\n",
            "Generation 38: Best fitness = 21\n",
            "Generation 39: Best fitness = 21\n",
            "Generation 40: Best fitness = 20\n",
            "Generation 41: Best fitness = 17\n",
            "Generation 42: Best fitness = 20\n",
            "Generation 43: Best fitness = 20\n",
            "Generation 44: Best fitness = 20\n",
            "Generation 45: Best fitness = 20\n",
            "Generation 46: Best fitness = 21\n",
            "Generation 47: Best fitness = 23\n",
            "Generation 48: Best fitness = 20\n",
            "Generation 49: Best fitness = 20\n",
            "Generation 50: Best fitness = 21\n",
            "Generation 51: Best fitness = 20\n",
            "Generation 52: Best fitness = 20\n",
            "Generation 53: Best fitness = 21\n",
            "Generation 54: Best fitness = 20\n",
            "Generation 55: Best fitness = 20\n",
            "Generation 56: Best fitness = 20\n",
            "Generation 57: Best fitness = 20\n",
            "Generation 58: Best fitness = 20\n",
            "Generation 59: Best fitness = 20\n",
            "Generation 60: Best fitness = 20\n",
            "Generation 61: Best fitness = 20\n",
            "Generation 62: Best fitness = 21\n",
            "Generation 63: Best fitness = 21\n",
            "Generation 64: Best fitness = 21\n",
            "Generation 65: Best fitness = 21\n",
            "Generation 66: Best fitness = 21\n",
            "Generation 67: Best fitness = 21\n",
            "Generation 68: Best fitness = 21\n",
            "Generation 69: Best fitness = 21\n",
            "Generation 70: Best fitness = 21\n",
            "Generation 71: Best fitness = 21\n",
            "Generation 72: Best fitness = 21\n",
            "Generation 73: Best fitness = 21\n",
            "Generation 74: Best fitness = 21\n",
            "Generation 75: Best fitness = 21\n",
            "Generation 76: Best fitness = 21\n",
            "Generation 77: Best fitness = 20\n",
            "Generation 78: Best fitness = 20\n",
            "Generation 79: Best fitness = 23\n",
            "Generation 80: Best fitness = 23\n",
            "Generation 81: Best fitness = 23\n",
            "Generation 82: Best fitness = 20\n",
            "Generation 83: Best fitness = 20\n",
            "Generation 84: Best fitness = 20\n",
            "Generation 85: Best fitness = 20\n",
            "Generation 86: Best fitness = 20\n",
            "Generation 87: Best fitness = 17\n",
            "Generation 88: Best fitness = 19\n",
            "Generation 89: Best fitness = 19\n",
            "Generation 90: Best fitness = 20\n",
            "Generation 91: Best fitness = 20\n",
            "Generation 92: Best fitness = 20\n",
            "Generation 93: Best fitness = 20\n",
            "Generation 94: Best fitness = 23\n",
            "Generation 95: Best fitness = 17\n",
            "Generation 96: Best fitness = 20\n",
            "Generation 97: Best fitness = 20\n",
            "Generation 98: Best fitness = 20\n",
            "Generation 99: Best fitness = 20\n",
            "Best solution: [1, 1, 0, 1, 0], Fitness: 20\n"
          ]
        }
      ]
    }
  ]
}