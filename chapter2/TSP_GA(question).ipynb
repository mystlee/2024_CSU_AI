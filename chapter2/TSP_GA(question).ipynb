{
  "nbformat": 4,
  "nbformat_minor": 0,
  "metadata": {
    "colab": {
      "provenance": []
    },
    "kernelspec": {
      "name": "python3",
      "display_name": "Python 3"
    },
    "language_info": {
      "name": "python"
    }
  },
  "cells": [
    {
      "cell_type": "markdown",
      "source": [
        "**TSP을 해결하기 위한 genetic algorithm**\n",
        "\n",
        "TSP (traveling salesman problem, 외판원 문제)\n",
        "- 여러 도시를 방문하는 경로 중, 모든 도시를 한 번씩만 방문하고, 다시 출달 도시로 돌아오는 경로 중에서 가장 짧은 경로를 찾는 문제\n",
        "- **조건**: 도시 하나씩 지나쳐야함\n",
        "- **목표**: 최단 거리로 모든 도시 방문"
      ],
      "metadata": {
        "id": "kC0r-HLUPxpz"
      }
    },
    {
      "cell_type": "code",
      "execution_count": null,
      "metadata": {
        "id": "PVAKc9EgPqt0"
      },
      "outputs": [],
      "source": [
        "import random\n",
        "import math\n",
        "\n",
        "# 도시들의 좌표 (임의로 생성된 도시들)\n",
        "cities = [\n",
        "    (0, 0), (1, 5), (2, 3), (5, 2), (6, 6), (7, 4), (8, 1), (3, 7)\n",
        "]"
      ]
    },
    {
      "cell_type": "markdown",
      "source": [
        "**유전자 정의** 또는 **개체생성**\n",
        "\n"
      ],
      "metadata": {
        "id": "ZIyMttcwPy_A"
      }
    },
    {
      "cell_type": "code",
      "source": [
        "def generate_individual():\n",
        "    individual = list(range(len(cities)))\n",
        "    random.shuffle(individual)\n",
        "    return individual"
      ],
      "metadata": {
        "id": "O-o7aMtRP0sD"
      },
      "execution_count": null,
      "outputs": []
    },
    {
      "cell_type": "markdown",
      "source": [
        "초기 population 생성"
      ],
      "metadata": {
        "id": "46_BqF5cP1U6"
      }
    },
    {
      "cell_type": "code",
      "source": [
        "def generate_population(size):\n",
        "    return [generate_individual() for _ in range(size)]"
      ],
      "metadata": {
        "id": "3_OMfLnLP3Jp"
      },
      "execution_count": null,
      "outputs": []
    },
    {
      "cell_type": "markdown",
      "source": [
        "**적합도 함수**"
      ],
      "metadata": {
        "id": "o_KJEQebP1Bb"
      }
    },
    {
      "cell_type": "code",
      "source": [
        "# 도시 사이의 거리 계산\n",
        "def distance(city1, city2):\n",
        "    # FROM HERE: 두 도시 사이의 거리를 작성\n",
        "    # # WRITE HERE\n",
        "    # return ...\n",
        "    # END\n",
        "\n",
        "\n",
        "# 경로의 총 거리를 계산\n",
        "def total_distance(individual):\n",
        "    total = 0\n",
        "    for i in range(len(individual)):\n",
        "        city1 = cities[individual[i]]\n",
        "        city2 = cities[individual[(i + 1) % len(individual)]]  # 순환 경로\n",
        "        # 두 도시 사이의 거리들의 총합\n",
        "        # # WRITE HERE\n",
        "        # total =?\n",
        "        # END\n",
        "\n",
        "    return total\n",
        "\n",
        "# 적합도 함수\n",
        "def fitness(individual):\n",
        "    return 1 / total_distance(individual)  # 거리가 짧을수록 적합도가 높게"
      ],
      "metadata": {
        "id": "_eVQLskZRMnW"
      },
      "execution_count": null,
      "outputs": []
    },
    {
      "cell_type": "markdown",
      "source": [
        "**Selection** : 적합도가 높은 개체를 선택"
      ],
      "metadata": {
        "id": "fw8mroswReU4"
      }
    },
    {
      "cell_type": "code",
      "source": [
        "def selection(population):\n",
        "    weighted_population = [(individual, fitness(individual)) for individual in population]\n",
        "    total_fitness = sum([f for _, f in weighted_population])\n",
        "    if total_fitness == 0:\n",
        "        return random.choice(population)\n",
        "\n",
        "    pick = random.uniform(0, total_fitness)\n",
        "    current = 0\n",
        "    for individual, fit in weighted_population:\n",
        "        current += fit\n",
        "        if current > pick:\n",
        "            return individual"
      ],
      "metadata": {
        "id": "iRMNpB2jReoH"
      },
      "execution_count": null,
      "outputs": []
    },
    {
      "cell_type": "markdown",
      "source": [
        "**Crossover**: 두 부모 개체의 일부 유전자를 교환"
      ],
      "metadata": {
        "id": "Dg00N77yRpXA"
      }
    },
    {
      "cell_type": "code",
      "source": [
        "def crossover(parent1, parent2):\n",
        "    start, end = sorted([random.randint(0, len(parent1) - 1) for _ in range(2)])\n",
        "    child1 = [-1] * len(parent1)\n",
        "    child2 = [-1] * len(parent1)\n",
        "\n",
        "    # 자식에게 부모의 일부분을 복사\n",
        "    child1[start:end] = parent1[start:end]\n",
        "    child2[start:end] = parent2[start:end]\n",
        "\n",
        "    # 나머지 부분을 채움\n",
        "    def fill_child(child, parent):\n",
        "        current_pos = end\n",
        "        for city in parent:\n",
        "            if city not in child:\n",
        "                if current_pos >= len(child):\n",
        "                    current_pos = 0\n",
        "                child[current_pos] = city\n",
        "                current_pos += 1\n",
        "\n",
        "    fill_child(child1, parent2)\n",
        "    fill_child(child2, parent1)\n",
        "\n",
        "    return child1, child2"
      ],
      "metadata": {
        "id": "b0JGF0AmRo8O"
      },
      "execution_count": null,
      "outputs": []
    },
    {
      "cell_type": "markdown",
      "source": [
        "**Mutation**: 개체의 유전자를 무작위로 변형"
      ],
      "metadata": {
        "id": "uTKuq5SARqKI"
      }
    },
    {
      "cell_type": "code",
      "source": [
        "def mutate(individual, mutation_rate=0.1):\n",
        "    if random.random() < mutation_rate:\n",
        "        i, j = random.sample(range(len(individual)), 2)\n",
        "        individual[i], individual[j] = individual[j], individual[i]"
      ],
      "metadata": {
        "id": "UU4mZo1GRqh-"
      },
      "execution_count": null,
      "outputs": []
    },
    {
      "cell_type": "markdown",
      "source": [
        "**Genetic algorihm 정의 및 실행**"
      ],
      "metadata": {
        "id": "_vWuvinDRq6p"
      }
    },
    {
      "cell_type": "code",
      "source": [
        "def genetic_algorithm(population_size=10, generations=100, mutation_rate=0.1):\n",
        "    population = generate_population(population_size)\n",
        "\n",
        "    for generation in range(generations):\n",
        "        new_population = []\n",
        "\n",
        "        # 다음 세대 생성\n",
        "        for _ in range(population_size // 2):\n",
        "            parent1 = selection(population)\n",
        "            parent2 = selection(population)\n",
        "            child1, child2 = crossover(parent1, parent2)\n",
        "            mutate(child1, mutation_rate)\n",
        "            mutate(child2, mutation_rate)\n",
        "            new_population.extend([child1, child2])\n",
        "\n",
        "        population = new_population\n",
        "\n",
        "        # 현재 세대에서 최고의 경로 출력\n",
        "        best_individual = min(population, key=total_distance)\n",
        "        print(f\"Generation {generation}: Best distance = {total_distance(best_individual)}\")\n",
        "\n",
        "    # 최종 최적 경로 출력\n",
        "    best_individual = min(population, key=total_distance)\n",
        "    print(f\"Best solution: {best_individual}, Distance: {total_distance(best_individual)}\")"
      ],
      "metadata": {
        "id": "AapelZDURrUv"
      },
      "execution_count": null,
      "outputs": []
    },
    {
      "cell_type": "code",
      "source": [
        "genetic_algorithm()"
      ],
      "metadata": {
        "colab": {
          "base_uri": "https://localhost:8080/"
        },
        "id": "5OLAAeg4SKBv",
        "outputId": "abec2a94-07c3-4820-f638-6b11d217bea1"
      },
      "execution_count": null,
      "outputs": [
        {
          "output_type": "stream",
          "name": "stdout",
          "text": [
            "Generation 0: Best distance = 34.731981123889895\n",
            "Generation 1: Best distance = 35.58596044701608\n",
            "Generation 2: Best distance = 32.90886750585204\n",
            "Generation 3: Best distance = 34.731981123889895\n",
            "Generation 4: Best distance = 39.38160183129643\n",
            "Generation 5: Best distance = 39.244723498898125\n",
            "Generation 6: Best distance = 39.722838472726295\n",
            "Generation 7: Best distance = 34.190144785563064\n",
            "Generation 8: Best distance = 37.161787623123395\n",
            "Generation 9: Best distance = 32.99059572353489\n",
            "Generation 10: Best distance = 35.71911718175869\n",
            "Generation 11: Best distance = 34.919563694400395\n",
            "Generation 12: Best distance = 35.70883014106308\n",
            "Generation 13: Best distance = 35.689126116945964\n",
            "Generation 14: Best distance = 35.68912611694596\n",
            "Generation 15: Best distance = 33.703310129557025\n",
            "Generation 16: Best distance = 31.381505176062188\n",
            "Generation 17: Best distance = 31.381505176062188\n",
            "Generation 18: Best distance = 31.170164679613205\n",
            "Generation 19: Best distance = 34.320483953266574\n",
            "Generation 20: Best distance = 34.320483953266574\n",
            "Generation 21: Best distance = 32.365823666891885\n",
            "Generation 22: Best distance = 30.812636554196203\n",
            "Generation 23: Best distance = 35.42067721061291\n",
            "Generation 24: Best distance = 37.53549594077717\n",
            "Generation 25: Best distance = 32.60298869790296\n",
            "Generation 26: Best distance = 34.06900168350687\n",
            "Generation 27: Best distance = 35.2797465933114\n",
            "Generation 28: Best distance = 34.36823393614837\n",
            "Generation 29: Best distance = 34.36823393614837\n",
            "Generation 30: Best distance = 34.166022233673594\n",
            "Generation 31: Best distance = 38.56048225589353\n",
            "Generation 32: Best distance = 39.05738617837766\n",
            "Generation 33: Best distance = 37.21843355889719\n",
            "Generation 34: Best distance = 35.81946528464947\n",
            "Generation 35: Best distance = 35.22662042278741\n",
            "Generation 36: Best distance = 35.22662042278741\n",
            "Generation 37: Best distance = 35.22662042278741\n",
            "Generation 38: Best distance = 33.81158666314022\n",
            "Generation 39: Best distance = 29.601891644391678\n",
            "Generation 40: Best distance = 29.601891644391674\n",
            "Generation 41: Best distance = 29.601891644391678\n",
            "Generation 42: Best distance = 29.601891644391674\n",
            "Generation 43: Best distance = 29.601891644391674\n",
            "Generation 44: Best distance = 29.601891644391678\n",
            "Generation 45: Best distance = 33.7824367326123\n",
            "Generation 46: Best distance = 35.02216459680167\n",
            "Generation 47: Best distance = 31.945134050133532\n",
            "Generation 48: Best distance = 34.166022233673594\n",
            "Generation 49: Best distance = 35.43430047751496\n",
            "Generation 50: Best distance = 35.17265752261965\n",
            "Generation 51: Best distance = 35.172657522619645\n",
            "Generation 52: Best distance = 34.29542810248171\n",
            "Generation 53: Best distance = 31.253755389294348\n",
            "Generation 54: Best distance = 35.70883014106308\n",
            "Generation 55: Best distance = 32.417137938604206\n",
            "Generation 56: Best distance = 39.586295186083596\n",
            "Generation 57: Best distance = 37.05120521033264\n",
            "Generation 58: Best distance = 33.9692987188228\n",
            "Generation 59: Best distance = 37.0670812767452\n",
            "Generation 60: Best distance = 35.68912611694596\n",
            "Generation 61: Best distance = 35.51331043012082\n",
            "Generation 62: Best distance = 29.838721629647146\n",
            "Generation 63: Best distance = 35.79655023339332\n",
            "Generation 64: Best distance = 35.79655023339332\n",
            "Generation 65: Best distance = 35.79655023339332\n",
            "Generation 66: Best distance = 32.764169304560056\n",
            "Generation 67: Best distance = 32.764169304560056\n",
            "Generation 68: Best distance = 32.764169304560056\n",
            "Generation 69: Best distance = 33.39709627585234\n",
            "Generation 70: Best distance = 34.687730327450794\n",
            "Generation 71: Best distance = 35.65450783416527\n",
            "Generation 72: Best distance = 36.81753352142058\n",
            "Generation 73: Best distance = 36.20752160138444\n",
            "Generation 74: Best distance = 35.317446271604055\n",
            "Generation 75: Best distance = 36.71189499614006\n",
            "Generation 76: Best distance = 35.559628083527265\n",
            "Generation 77: Best distance = 38.60755061937173\n",
            "Generation 78: Best distance = 36.87925135941353\n",
            "Generation 79: Best distance = 35.56745721225757\n",
            "Generation 80: Best distance = 35.07938783838742\n",
            "Generation 81: Best distance = 31.725759277765018\n",
            "Generation 82: Best distance = 31.725759277765018\n",
            "Generation 83: Best distance = 34.68348441921668\n",
            "Generation 84: Best distance = 34.68348441921668\n",
            "Generation 85: Best distance = 33.24271804127423\n",
            "Generation 86: Best distance = 32.38873871814804\n",
            "Generation 87: Best distance = 35.2797465933114\n",
            "Generation 88: Best distance = 33.541043767072566\n",
            "Generation 89: Best distance = 34.069001683506876\n",
            "Generation 90: Best distance = 33.79014921089319\n",
            "Generation 91: Best distance = 31.381505176062195\n",
            "Generation 92: Best distance = 32.365823666891885\n",
            "Generation 93: Best distance = 32.80852180806323\n",
            "Generation 94: Best distance = 29.601891644391674\n",
            "Generation 95: Best distance = 30.23481861568396\n",
            "Generation 96: Best distance = 30.23481861568396\n",
            "Generation 97: Best distance = 35.797300943465075\n",
            "Generation 98: Best distance = 33.81158666314021\n",
            "Generation 99: Best distance = 33.36721945638705\n",
            "Best solution: [5, 6, 0, 3, 1, 2, 7, 4], Distance: 33.36721945638705\n"
          ]
        }
      ]
    }
  ]
}